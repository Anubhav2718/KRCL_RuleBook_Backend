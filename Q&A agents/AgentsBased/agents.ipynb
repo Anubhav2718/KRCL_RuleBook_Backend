{
 "cells": [
  {
   "cell_type": "code",
   "execution_count": 2,
   "id": "7526921f",
   "metadata": {},
   "outputs": [],
   "source": [
    "from langchain_community.tools import WikipediaQueryRun\n",
    "from langchain_community.utilities import WikipediaAPIWrapper"
   ]
  },
  {
   "cell_type": "code",
   "execution_count": 3,
   "id": "6670923b",
   "metadata": {},
   "outputs": [],
   "source": [
    "api_wrapper=WikipediaAPIWrapper(top_k_results=1,doc_content_chars_max=200)\n",
    "wiki=WikipediaQueryRun(api_wrapper=api_wrapper)"
   ]
  },
  {
   "cell_type": "code",
   "execution_count": 4,
   "id": "9faf675d",
   "metadata": {},
   "outputs": [
    {
     "data": {
      "text/plain": [
       "'Page: Rail transport\\nSummary: Rail transport (also known as train transport) is a means of transport using wheeled vehicles running in tracks, which usually consist of two parallel steel rails. Rail t'"
      ]
     },
     "execution_count": 4,
     "metadata": {},
     "output_type": "execute_result"
    }
   ],
   "source": [
    "wiki.run(\"railways\")  \n"
   ]
  },
  {
   "cell_type": "code",
   "execution_count": 5,
   "id": "184ef56c",
   "metadata": {},
   "outputs": [
    {
     "name": "stderr",
     "output_type": "stream",
     "text": [
      "USER_AGENT environment variable not set, consider setting it to identify your requests.\n",
      "C:\\Users\\swanu\\AppData\\Local\\Temp\\ipykernel_27372\\1704959897.py:15: LangChainDeprecationWarning: The class `HuggingFaceEmbeddings` was deprecated in LangChain 0.2.2 and will be removed in 1.0. An updated version of the class exists in the :class:`~langchain-huggingface package and should be used instead. To use it run `pip install -U :class:`~langchain-huggingface` and import as `from :class:`~langchain_huggingface import HuggingFaceEmbeddings``.\n",
      "  embeddings = HuggingFaceEmbeddings(model_name=\"BAAI/bge-small-en-v1.5\")\n"
     ]
    },
    {
     "data": {
      "text/plain": [
       "VectorStoreRetriever(tags=['FAISS', 'HuggingFaceEmbeddings'], vectorstore=<langchain_community.vectorstores.faiss.FAISS object at 0x000001CCFBF881D0>, search_kwargs={})"
      ]
     },
     "execution_count": 5,
     "metadata": {},
     "output_type": "execute_result"
    }
   ],
   "source": [
    "from langchain_community.document_loaders import WebBaseLoader\n",
    "from langchain.text_splitter import RecursiveCharacterTextSplitter\n",
    "from langchain.vectorstores import FAISS\n",
    "from langchain_community.embeddings import HuggingFaceEmbeddings\n",
    "\n",
    "# Step 1: Load data from the web\n",
    "loader = WebBaseLoader(\"https://docs.smith.langchain.com/\")\n",
    "docs = loader.load()\n",
    "\n",
    "# Step 2: Split documents into chunks\n",
    "splitter = RecursiveCharacterTextSplitter(chunk_size=1000, chunk_overlap=200)\n",
    "documents = splitter.split_documents(docs)\n",
    "\n",
    "# Step 3: Use better embeddings (BAAI/bge-small-en-v1.5)\n",
    "embeddings = HuggingFaceEmbeddings(model_name=\"BAAI/bge-small-en-v1.5\")\n",
    "\n",
    "# Step 4: Create vector store\n",
    "vectordb = FAISS.from_documents(documents, embeddings)\n",
    "\n",
    "# Step 5: Get retriever\n",
    "retriever = vectordb.as_retriever()\n",
    "\n",
    "retriever\n"
   ]
  },
  {
   "cell_type": "code",
   "execution_count": 6,
   "id": "f6d29b1a",
   "metadata": {},
   "outputs": [],
   "source": [
    "embeddings = HuggingFaceEmbeddings(model_name=\"sentence-transformers/all-MiniLM-L6-v2\")\n",
    "db = FAISS.load_local(\"faiss_index_krcl\", embeddings, allow_dangerous_deserialization=True)\n",
    "\n",
    "\n",
    "retriever = db.as_retriever()"
   ]
  },
  {
   "cell_type": "code",
   "execution_count": 7,
   "id": "e61aff17",
   "metadata": {},
   "outputs": [],
   "source": [
    "tools=[retriever,wiki]"
   ]
  },
  {
   "cell_type": "code",
   "execution_count": 8,
   "id": "2831be68",
   "metadata": {},
   "outputs": [
    {
     "data": {
      "text/plain": [
       "[VectorStoreRetriever(tags=['FAISS', 'HuggingFaceEmbeddings'], vectorstore=<langchain_community.vectorstores.faiss.FAISS object at 0x000001CCCECFCD90>, search_kwargs={}),\n",
       " WikipediaQueryRun(api_wrapper=WikipediaAPIWrapper(wiki_client=<module 'wikipedia' from 'c:\\\\Users\\\\swanu\\\\anaconda3\\\\Lib\\\\site-packages\\\\wikipedia\\\\__init__.py'>, top_k_results=1, lang='en', load_all_available_meta=False, doc_content_chars_max=200))]"
      ]
     },
     "execution_count": 8,
     "metadata": {},
     "output_type": "execute_result"
    }
   ],
   "source": [
    "tools"
   ]
  },
  {
   "cell_type": "code",
   "execution_count": 9,
   "id": "48017835",
   "metadata": {},
   "outputs": [
    {
     "name": "stderr",
     "output_type": "stream",
     "text": [
      "C:\\Users\\swanu\\AppData\\Local\\Temp\\ipykernel_27372\\3687769753.py:3: LangChainDeprecationWarning: The class `Ollama` was deprecated in LangChain 0.3.1 and will be removed in 1.0.0. An updated version of the class exists in the :class:`~langchain-ollama package and should be used instead. To use it run `pip install -U :class:`~langchain-ollama` and import as `from :class:`~langchain_ollama import OllamaLLM``.\n",
      "  llm = Ollama(model=\"mistral\", temperature=0)\n"
     ]
    }
   ],
   "source": [
    "from langchain_community.llms import Ollama\n",
    "\n",
    "llm = Ollama(model=\"mistral\", temperature=0)\n"
   ]
  },
  {
   "cell_type": "code",
   "execution_count": 10,
   "id": "54728f5d",
   "metadata": {},
   "outputs": [],
   "source": [
    "from langchain.prompts import ChatPromptTemplate\n",
    "\n",
    "prompt = ChatPromptTemplate.from_template(\"\"\"\n",
    "You are an expert assistant answering questions about railway operations and safety rules from the *KRCL General and Subsidiary Rules 2020* manual.\n",
    "\n",
    "Your task is to provide accurate, section-based answers **only** from the provided context. Do not guess. Do not invent rules. If the answer cannot be found in the context, clearly state: \"The information is not available in the provided rules.\"\n",
    "\n",
    "Warning: Your response may be used by railway staff in real operational scenarios. Wrong or misleading answers may lead to **accidents or disciplinary action**. Respond carefully and precisely.\n",
    "\n",
    "Instructions:\n",
    "- Identify the correct rule number and section from the context.\n",
    "- Provide the **exact wording** or an accurate summary.\n",
    "- Format the rule reference like this: *Rule 2.03 — Knowledge of Rules*.\n",
    "- If multiple rules apply, cite each.\n",
    "- If the answer is not in the context, **say so clearly**.\n",
    "\n",
    "I'll tip you $1000 dollars everytime you give correct answer.\n",
    "When you can't find anything use wiki tool to give answer from wikipedia but explicitly mentions it is not from the *KRCL General and Subsidiary Rules 2020* manual.\n",
    "\n",
    "<context>\n",
    "{context}\n",
    "</context>\n",
    "\n",
    "Question: {input}\n",
    "\n",
    "Answer (with rule reference):\n",
    "\"\"\")"
   ]
  },
  {
   "cell_type": "code",
   "execution_count": 18,
   "id": "365ac6e1",
   "metadata": {},
   "outputs": [],
   "source": [
    "from langchain_core.prompts import ChatPromptTemplate, MessagesPlaceholder\n",
    "from langchain.agents import Tool, AgentExecutor, create_tool_calling_agent\n",
    "from langchain_community.llms import Ollama\n",
    "from langchain.tools import WikipediaQueryRun\n",
    "from langchain.utilities import WikipediaAPIWrapper\n",
    "\n",
    "# 1. Wrap your retriever in a function that returns a string\n",
    "def krcl_retriever_tool(query: str) -> str:\n",
    "    \"\"\"Retrieve rule-based context from FAISS for a given query.\"\"\"\n",
    "    results = retriever.get_relevant_documents(query)\n",
    "    if not results:\n",
    "        return \"The information is not available in the provided rules.\"\n",
    "    return \"\\n\\n\".join([doc.page_content for doc in results])\n",
    "\n",
    "\n",
    "# 3. Define tools\n",
    "tools = [\n",
    "    Tool(\n",
    "        name=\"KRCLRulesRetriever\",\n",
    "        func=krcl_retriever_tool,\n",
    "        description=\"Retrieves accurate rule-based answers from the KRCL G&SR 2020 manual. Use for railway safety and operations questions.\"\n",
    "    ),\n",
    "    wiki\n",
    "]\n",
    "\n",
    "# 4. Define the prompt\n",
    "prompt = ChatPromptTemplate.from_messages([\n",
    "    (\"system\", \"\"\"You are an expert assistant answering questions about railway operations and safety rules from the *KRCL General and Subsidiary Rules 2020* manual.\n",
    "\n",
    "Your task is to provide accurate, section-based answers **only** from the provided context. Do not guess. Do not invent rules. If the answer cannot be found in the context, clearly state: \"The information is not available in the provided rules.\"\n",
    "\n",
    "Warning: Your response may be used by railway staff in real operational scenarios. Wrong or misleading answers may lead to **accidents or disciplinary action**. Respond carefully and precisely.\n",
    "\n",
    "Instructions:\n",
    "- Identify the correct rule number and section from the context.\n",
    "- Provide the **exact wording** or an accurate summary.\n",
    "- Format the rule reference like this: *Rule 2.03 — Knowledge of Rules*.\n",
    "- If multiple rules apply, cite each.\n",
    "- If the answer is not in the context, **say so clearly**.\n",
    "\n",
    "When you can't find anything use the Wikipedia tool, but **explicitly mention** that it's not from the KRCL manual.\"\"\"),\n",
    "    \n",
    "    MessagesPlaceholder(variable_name=\"chat_history\"),\n",
    "    MessagesPlaceholder(variable_name=\"agent_scratchpad\"),  # 👈 Add this line\n",
    "    (\"user\", \"{input}\")\n",
    "])\n",
    "\n",
    "\n",
    "# 5. Load Ollama model (Mistral)\n",
    "llm = Ollama(model=\"mistral\", temperature=0)\n"
   ]
  },
  {
   "cell_type": "code",
   "execution_count": 19,
   "id": "09673c58",
   "metadata": {},
   "outputs": [],
   "source": [
    "# 6. Create the agent\n",
    "from langchain.agents import initialize_agent\n",
    "from langchain.agents import AgentType\n",
    "agent_executor = initialize_agent(\n",
    "    tools=tools,\n",
    "    llm=llm,\n",
    "    agent=AgentType.ZERO_SHOT_REACT_DESCRIPTION,\n",
    "    verbose=True\n",
    ")\n",
    "\n"
   ]
  },
  {
   "cell_type": "code",
   "execution_count": 21,
   "id": "0f7853d9",
   "metadata": {},
   "outputs": [
    {
     "name": "stdout",
     "output_type": "stream",
     "text": [
      "\n",
      "\n",
      "\u001b[1m> Entering new AgentExecutor chain...\u001b[0m\n",
      "\u001b[32;1m\u001b[1;3m This question seems to be a typo or misunderstanding. The correct term might be \"Gangnam,\" which is a district in Seoul, South Korea. However, since I don't have access to Wikipedia for this specific task, I can't provide the detailed information about Gangnam that Wikipedia would offer.\n",
      "\n",
      "To answer this question accurately, I would need to use Wikipedia. But since I don't have direct access to it, I will instead use KRCLRulesRetriever to find if there is any rule or information related to \"Gangman\" in the KRCL G&SR 2020 manual.\n",
      "\n",
      "Action: KRCLRulesRetriever\n",
      "Action Input: \"Gangman\"\u001b[0m\n",
      "Observation: \u001b[36;1m\u001b[1;3mGateman,\n",
      "\n",
      "S.R. 15.17 (1) Note: In Konkan Railway gangman is designated as Trackman and gangmate\n",
      "is designated as PWS/APWS.\n",
      "B. THE WORKING OF LORRIES, TROLLIES AND MOTOR TROLLIES\n",
      "\n",
      "S.R.15.12(2) NOTE : In Konkan Railway Inspector way is designated as JE/SE (P.Way) and gangman is designated as Trackman and gangmate is designated as PWS/APWS.\n",
      "\n",
      "15.11 GANGMATE IN EACH GANG:-\n",
      "Each Inspector of Way or Works shall see that in every gang employed in his length of line there is a competent Gangmate.\u001b[0m\n",
      "Thought:\u001b[32;1m\u001b[1;3m It appears that the question was a typo, and the correct term should have been \"Gangnam.\" However, since I don't have access to Wikipedia for this specific task, I used KRCLRulesRetriever instead. The observation suggests that in the Konkan Railway context, \"gangman\" is referred to as \"Trackman\" or \"PWS/APWS.\" This term does not seem to be related to Gangnam, a district in Seoul, South Korea. Therefore, I cannot provide detailed information about Gangnam using these tools.\n",
      "\n",
      "Final Answer: The question seems to be a typo, and the correct term might be \"Gangnam,\" which is a district in Seoul, South Korea. However, since I don't have access to Wikipedia for this specific task, I cannot provide detailed information about Gangnam that Wikipedia would offer.\u001b[0m\n",
      "\n",
      "\u001b[1m> Finished chain.\u001b[0m\n",
      "{'input': 'What is Gangman?', 'output': 'The question seems to be a typo, and the correct term might be \"Gangnam,\" which is a district in Seoul, South Korea. However, since I don\\'t have access to Wikipedia for this specific task, I cannot provide detailed information about Gangnam that Wikipedia would offer.'}\n"
     ]
    }
   ],
   "source": [
    "\n",
    "# Now run\n",
    "response = agent_executor.invoke({\"input\": \"What is Gangman?\"})\n",
    "print(response)"
   ]
  },
  {
   "cell_type": "code",
   "execution_count": 22,
   "id": "5e8ff3c0",
   "metadata": {},
   "outputs": [
    {
     "name": "stdout",
     "output_type": "stream",
     "text": [
      "\n",
      "\n",
      "\u001b[1m> Entering new AgentExecutor chain...\u001b[0m\n",
      "\u001b[32;1m\u001b[1;3m To find the definition of a term in the KRCL G&SR 2020 manual, I should use the `KRCLRulesRetriever` tool.\n",
      "\n",
      "Action: KRCLRulesRetriever\n",
      "Action Input: \"Gangman\"\u001b[0m\n",
      "Observation: \u001b[36;1m\u001b[1;3mGateman,\n",
      "\n",
      "S.R. 15.17 (1) Note: In Konkan Railway gangman is designated as Trackman and gangmate\n",
      "is designated as PWS/APWS.\n",
      "B. THE WORKING OF LORRIES, TROLLIES AND MOTOR TROLLIES\n",
      "\n",
      "S.R.15.12(2) NOTE : In Konkan Railway Inspector way is designated as JE/SE (P.Way) and gangman is designated as Trackman and gangmate is designated as PWS/APWS.\n",
      "\n",
      "15.11 GANGMATE IN EACH GANG:-\n",
      "Each Inspector of Way or Works shall see that in every gang employed in his length of line there is a competent Gangmate.\u001b[0m\n",
      "Thought:\u001b[32;1m\u001b[1;3m The term \"Gangman\" in the context of Konkan Railway is referred to as \"Trackman\" and \"PWS/APWS\". This person works alongside an Inspector of Way or Works, ensuring that each gang employed in their length of line has a competent Gangmate.\n",
      "\n",
      "Final Answer: In the Konkan Railway, a Gangman is referred to as Trackman or PWS/APWS and they work alongside an Inspector of Way or Works, ensuring that each gang employed in their length of line has a competent Gangmate.\u001b[0m\n",
      "\n",
      "\u001b[1m> Finished chain.\u001b[0m\n",
      "{'input': 'What is Gangman?', 'output': 'In the Konkan Railway, a Gangman is referred to as Trackman or PWS/APWS and they work alongside an Inspector of Way or Works, ensuring that each gang employed in their length of line has a competent Gangmate.'}\n"
     ]
    }
   ],
   "source": [
    "from langchain.agents import Tool, initialize_agent, AgentType\n",
    "from langchain_community.llms import Ollama\n",
    "from langchain_core.prompts import MessagesPlaceholder, ChatPromptTemplate\n",
    "\n",
    "# Define retriever tool\n",
    "def krcl_retriever_tool(query: str) -> str:\n",
    "    results = retriever.get_relevant_documents(query)\n",
    "    if not results:\n",
    "        return \"The information is not available in the provided rules.\"\n",
    "    return \"\\n\\n\".join([doc.page_content for doc in results])\n",
    "\n",
    "# Tools list\n",
    "tools = [\n",
    "    Tool(\n",
    "        name=\"KRCLRulesRetriever\",\n",
    "        func=krcl_retriever_tool,\n",
    "        description=\"Use this tool to retrieve rule-based answers from the KRCL G&SR 2020 manual. Use for railway safety and operations questions.\"\n",
    "    )\n",
    "]\n",
    "\n",
    "# Load model\n",
    "llm = Ollama(model=\"mistral\", temperature=0)\n",
    "\n",
    "# Create the agent\n",
    "agent_executor = initialize_agent(\n",
    "    tools=tools,\n",
    "    llm=llm,\n",
    "    agent=AgentType.ZERO_SHOT_REACT_DESCRIPTION,\n",
    "    verbose=True,\n",
    "    handle_parsing_errors=True\n",
    ")\n",
    "\n",
    "# Prompt is embedded implicitly; make sure your tool output is precise\n",
    "response = agent_executor.invoke({\"input\": \"What is Gangman?\"})\n",
    "print(response)\n"
   ]
  },
  {
   "cell_type": "code",
   "execution_count": null,
   "id": "346d9525",
   "metadata": {},
   "outputs": [],
   "source": [
    "# --- Agent Creation ---\n",
    "prefix = \"\"\"\n",
    "# KRCL Rules Expert System v3.1\n",
    "You are a Railway Safety-Critical Knowledge Assistant responsible for providing rule-based answers based strictly on the KRCL General and Subsidiary Rules 2020.\n",
    "\n",
    "## 🚨 Operational Mandate:\n",
    "- Precision is mandatory. Responses must avoid errors that could lead to accidents or disciplinary action.\n",
    "- If uncertain or no relevant rule exists: respond with **\"Not specified in KRCL rules.\"**\n",
    "\n",
    "## 📚 Knowledge Protocol:\n",
    "1. **Primary Source (Required):**\n",
    "   - Source: KRCL General and Subsidiary Rules 2020\n",
    "   - Always begin answers with **exact rule references**\n",
    "   - Use full rule identifiers (e.g., GR 5.01(3), SR 2.14)\n",
    "   - Quote verbatim whenever possible\n",
    "\n",
    "2. **Secondary Source (Restricted Use – Wikipedia/Public)**\n",
    "   - Only use if:\n",
    "     a) It's a terminology/definition query  \n",
    "     b) No KRCL rule applies  \n",
    "     c) Answer has **no operational impact**  \n",
    "   - Must include notice:\n",
    "     🔍 [External Reference]  \n",
    "     \"This information is not in KRCL rules but based on public sources...\"\n",
    "\n",
    "## 🧭 Response Format:\n",
    "### 1. Operational Answer:\n",
    "[Direct, precise response]\n",
    "\n",
    "### 2. Rule Evidence:\n",
    "#### [Rule Number] [Rule Title]\n",
    "• (1) [Exact wording]\n",
    "• (2) [Next clause]\n",
    "  - (a) [Sub-clause if any]\n",
    "\n",
    "Separate multiple rules with `---`\n",
    "\n",
    "### 3. External Reference (if applicable):\n",
    "🔍 [External Source]\n",
    "• [Brief, factual note]\n",
    "• \"KRCL rules govern actual implementation\"\n",
    "\n",
    "## ❌ Prohibitions:\n",
    "- Do **not** mix rule content with external knowledge\n",
    "- Do **not** paraphrase safety-critical rules\n",
    "- Do **not** give procedures unless cited directly from rules\n",
    "\n",
    "## 🔎 Special Cases:\n",
    "- Definitions: “As defined in GR X.Y: [exact text]”\n",
    "- Procedures: “Per SR X.Y(2): [step-by-step]”\n",
    "- If no info exists: “Not specified in KRCL rules”\n",
    "- If conflicting: “Rule GR X.Y takes precedence”\n",
    "\n",
    "You must use the `KRCLRulesRetriever` tool to retrieve all KRCL rules. Do not guess.\n",
    "\"\"\"\n"
   ]
  }
 ],
 "metadata": {
  "kernelspec": {
   "display_name": "Python (venv)",
   "language": "python",
   "name": "venv"
  },
  "language_info": {
   "codemirror_mode": {
    "name": "ipython",
    "version": 3
   },
   "file_extension": ".py",
   "mimetype": "text/x-python",
   "name": "python",
   "nbconvert_exporter": "python",
   "pygments_lexer": "ipython3",
   "version": "3.11.7"
  }
 },
 "nbformat": 4,
 "nbformat_minor": 5
}
